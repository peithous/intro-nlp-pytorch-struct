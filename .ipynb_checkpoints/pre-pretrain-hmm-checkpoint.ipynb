{
 "cells": [
  {
   "cell_type": "code",
   "execution_count": 1,
   "metadata": {},
   "outputs": [],
   "source": [
    "import torchtext.data as data\n",
    "from torchtext.data import BucketIterator\n",
    "import torch\n",
    "from torch.distributions import Categorical\n",
    "#from torch import nn\n",
    "from torch_struct import HMM\n",
    "#import matplotlib\n",
    "import matplotlib.pyplot as plt"
   ]
  },
  {
   "cell_type": "code",
   "execution_count": 2,
   "metadata": {},
   "outputs": [],
   "source": [
    "class ConllXDataset(data.Dataset):\n",
    "    def __init__(self, path, fields, encoding='utf-8', separator='\\t', **kwargs):\n",
    "        examples = []\n",
    "        columns = [[], []]\n",
    "        column_map = {1: 0, 3: 1}\n",
    "        with open(path, encoding=encoding) as input_file:\n",
    "            for line in input_file:\n",
    "                line = line.strip()\n",
    "                if line == '':\n",
    "                    examples.append(data.Example.fromlist(columns, fields))\n",
    "                    columns = [[], []]\n",
    "                else:\n",
    "                    for i, column in enumerate(line.split(separator)):\n",
    "                        if i in column_map:\n",
    "                            columns[column_map[i]].append(column)\n",
    "            examples.append(data.Example.fromlist(columns, fields))\n",
    "        super(ConllXDataset, self).__init__(examples, fields, **kwargs)"
   ]
  },
  {
   "cell_type": "code",
   "execution_count": 3,
   "metadata": {},
   "outputs": [
    {
     "name": "stdout",
     "output_type": "stream",
     "text": [
      "defaultdict(<bound method Vocab._default_unk_index of <torchtext.vocab.Vocab object at 0x11ff25b90>>, {'<unk>': 0, 'I': 1, '·': 2, 'am': 3, 'Sam': 4, 'Am': 5, 'was': 6})\n",
      "defaultdict(<bound method Vocab._default_unk_index of <torchtext.vocab.Vocab object at 0x11ff25c10>>, {'<unk>': 0, 'PRON': 1, 'PUNCT': 2, 'AUX': 3, 'PROPN': 4})\n",
      "C 5 V 7\n"
     ]
    }
   ],
   "source": [
    "WORD = data.Field(pad_token=None)\n",
    "POS = data.Field(include_lengths=True, pad_token=None) # init_token='<bos>'\n",
    "fields = (('word', WORD), ('pos', POS), (None, None))\n",
    "\n",
    "train = ConllXDataset('samIam.conllu', fields)\n",
    "train_DATA = ConllXDataset('samIam-dataCopies.conllu', fields)\n",
    "test = ConllXDataset('test.conllu', fields)\n",
    "\n",
    "WORD.build_vocab(train_DATA) # include 'was' in vocab with <unk> as it's POS\n",
    "POS.build_vocab(train_DATA)\n",
    "print(WORD.vocab.stoi)\n",
    "print(POS.vocab.stoi)\n",
    "\n",
    "#to do: store parameters in model class, embeddings\n",
    "train_iter = BucketIterator(train, batch_size=2, device='cpu', shuffle=False)\n",
    "train_iter_DATA = BucketIterator(train_DATA, batch_size=2, device='cpu', shuffle=False)\n",
    "\n",
    "test_iter = BucketIterator(test, batch_size=2, device='cpu', shuffle=False)\n",
    "\n",
    "C = len(POS.vocab)\n",
    "V = len(WORD.vocab)\n",
    "print('C', C, 'V', V)"
   ]
  },
  {
   "cell_type": "code",
   "execution_count": 4,
   "metadata": {},
   "outputs": [],
   "source": [
    "class Model():\n",
    "    def __init__(self):\n",
    "        super().__init__()\n",
    "        self.trnsn_prms = {}\n",
    "        self.emssn_prms = {}\n",
    "\n",
    "    def update_a(self, tag_sq, length):\n",
    "        for i, x in enumerate(tag_sq[:length]): \n",
    "            # print(POS.vocab.itos[x.item()])\n",
    "            if i!=0: \n",
    "                if (tag_sq[i-1].item(), x.item()) not in self.trnsn_prms:\n",
    "                    self.trnsn_prms[(tag_sq[i-1].item(), x.item())] = 1\n",
    "                elif (tag_sq[i-1].item(), x.item()) in self.trnsn_prms:\n",
    "                    self.trnsn_prms[(tag_sq[i-1].item(), x.item())] += 1\n",
    "\n",
    "    def update_b(self, tag_sq, sent, length):\n",
    "        for i, t in enumerate(tag_sq[:length]): \n",
    "            x = (t.item(), sent[i].item())\n",
    "            if x not in self.emssn_prms:\n",
    "                self.emssn_prms[x] = 1\n",
    "            elif x in self.emssn_prms:\n",
    "                self.emssn_prms[x] += 1"
   ]
  },
  {
   "cell_type": "code",
   "execution_count": 5,
   "metadata": {},
   "outputs": [],
   "source": [
    "def show_chain(chain):\n",
    "    plt.imshow(chain.detach().sum(-1).transpose(0, 1))"
   ]
  },
  {
   "cell_type": "code",
   "execution_count": 12,
   "metadata": {
    "scrolled": false
   },
   "outputs": [],
   "source": [
    "def trn(train_iter, model):\n",
    "    for ex in train_iter:\n",
    "        words = ex.word\n",
    "        label, lengths = ex.pos\n",
    "        # for x in range(words.shape[1]):\n",
    "            # print(' '.join([WORD.vocab.itos[i] for i in words[:, x]]))\n",
    "            # print(' '.join([POS.vocab.itos[i] for i in label[:, x]]))\n",
    "\n",
    "        for b in range(label.shape[1]):\n",
    "            model.update_a(label[:, b], lengths[b])\n",
    "            model.update_b(label[:, b], words[:, b], lengths[b])\n",
    "    # print(model.trnsn_prms)\n",
    "    # print([(POS.vocab.itos[x[0]], POS.vocab.itos[x[1]], model.trnsn_prms[x]) for x in model.trnsn_prms])\n",
    "    # print([(POS.vocab.itos[x[0]], WORD.vocab.itos[x[1]], model.emssn_prms[x]) for x in model.emssn_prms])\n",
    "\n",
    "    transition = torch.zeros((C, C)) \n",
    "    for x in model.trnsn_prms:\n",
    "        transition[x[0], x[1]] = model.trnsn_prms[x] # populate with counts: (pos_n-1, pos_n)\n",
    "    #print(transition)\n",
    "    for row in range(transition.shape[0]):\n",
    "        if row!=POS.vocab.stoi['PUNCT']: # 0-probs at p(z_n | z_n-1 = punct) \n",
    "            transition[row, :] = Categorical(transition[row, :]).probs # normalize counts\n",
    "    #print(transition.shape, '\\n', transition)\n",
    "    transition = transition.transpose(0, 1) # p(z_n| z_n-1) \n",
    "    print('transition', '\\n', transition)\n",
    "\n",
    "    init = torch.zeros(C)\n",
    "    for x in range(C):\n",
    "        init[x] = POS.vocab.freqs[POS.vocab.itos[x]]\n",
    "    #print(init)\n",
    "    init = Categorical(init).probs\n",
    "    #print(init)\n",
    "   \n",
    "    emission = torch.zeros((C, V)) \n",
    "    for x in model.emssn_prms:  \n",
    "        emission[x[0], x[1]] = model.emssn_prms[x]\n",
    "    #print(emission)\n",
    "    for row in range(emission.shape[0]):\n",
    "        emission[row, :] = Categorical(emission[row, :]).probs # p(w_i = ·|PUNCT) = 1, (Eisenstein: 148)\n",
    "    #print(emission)\n",
    "    emission = emission.transpose(0,1) # p(x_n| z_n)\n",
    "    print('emission', '\\n', emission)\n",
    "\n",
    "    for ex in train_iter:\n",
    "        label, lengths = ex.pos\n",
    "        observations = torch.LongTensor(ex.word).transpose(0, 1).contiguous()\n",
    "\n",
    "        dist = HMM(transition, emission, init, observations, lengths=lengths) # CxC, VxC, C, bxN -> b x (N-1) x C x C \n",
    "        # print('train')\n",
    "\n",
    "        print('label train', label.transpose(0, 1)[0])\n",
    "\n",
    "        # print('marginals', dist.marginals[0].sum(-1))\n",
    "        # print('argmax', dist.argmax[0].sum(-1))\n",
    "        # print(dist.argmax.shape) # \n",
    "        \n",
    "        show_chain(dist.argmax[0])\n",
    "        plt.show()\n",
    "\n",
    "    for i, ex in enumerate(test_iter):\n",
    "        label, lengths = ex.pos\n",
    "        #print(label.shape)\n",
    "        observations = torch.LongTensor(ex.word).transpose(0, 1).contiguous()\n",
    "\n",
    "        #print('words', observations[0])\n",
    "        print('label test', i, label.transpose(0, 1)[0])\n",
    "\n",
    "        dist = HMM(transition, emission, init, observations, lengths=lengths) # CxC, VxC, C, bxN\n",
    "        #print(dist.log_potentials[0].sum(-1))   \n",
    "\n",
    "        print(dist.marginals[0].sum(-1))     \n",
    "        print(dist.argmax[0].sum(-1))        \n",
    "\n",
    "        show_chain(dist.argmax[0])\n",
    "        plt.show()"
   ]
  },
  {
   "cell_type": "code",
   "execution_count": 13,
   "metadata": {
    "scrolled": false
   },
   "outputs": [
    {
     "name": "stdout",
     "output_type": "stream",
     "text": [
      "transition \n",
      " tensor([[0.0000, 0.0000, 0.0000, 0.1429, 0.0000],\n",
      "        [0.5000, 0.0000, 0.0000, 0.2857, 0.2500],\n",
      "        [0.5000, 0.1429, 0.0000, 0.4286, 0.5000],\n",
      "        [0.0000, 0.7143, 0.0000, 0.0000, 0.2500],\n",
      "        [0.0000, 0.1429, 0.0000, 0.1429, 0.0000]])\n",
      "emission \n",
      " tensor([[1.0000, 0.0000, 0.0000, 0.0000, 0.0000],\n",
      "        [0.0000, 1.0000, 0.0000, 0.0000, 0.0000],\n",
      "        [0.0000, 0.0000, 1.0000, 0.0000, 0.0000],\n",
      "        [0.0000, 0.0000, 0.0000, 0.8571, 0.0000],\n",
      "        [0.0000, 0.0000, 0.0000, 0.0000, 1.0000],\n",
      "        [0.0000, 0.0000, 0.0000, 0.1429, 0.0000],\n",
      "        [0.0000, 0.0000, 0.0000, 0.0000, 0.0000]])\n",
      "label train tensor([4, 1, 3, 2])\n"
     ]
    },
    {
     "data": {
      "image/png": "[encoded data removed]",
      "text/plain": [
       "<Figure size 432x288 with 1 Axes>"
      ]
     },
     "metadata": {
      "needs_background": "light"
     },
     "output_type": "display_data"
    },
    {
     "name": "stdout",
     "output_type": "stream",
     "text": [
      "label train tensor([1, 3, 2, 0])\n"
     ]
    },
    {
     "data": {
      "image/png": "[encoded data removed]",
      "text/plain": [
       "<Figure size 432x288 with 1 Axes>"
      ]
     },
     "metadata": {
      "needs_background": "light"
     },
     "output_type": "display_data"
    },
    {
     "name": "stdout",
     "output_type": "stream",
     "text": [
      "label train tensor([3, 1, 4, 2])\n"
     ]
    },
    {
     "data": {
      "image/png": "[encoded data removed]",
      "text/plain": [
       "<Figure size 432x288 with 1 Axes>"
      ]
     },
     "metadata": {
      "needs_background": "light"
     },
     "output_type": "display_data"
    },
    {
     "name": "stdout",
     "output_type": "stream",
     "text": [
      "label train tensor([0, 1, 3, 2])\n"
     ]
    },
    {
     "data": {
      "image/png": "[encoded data removed]",
      "text/plain": [
       "<Figure size 432x288 with 1 Axes>"
      ]
     },
     "metadata": {
      "needs_background": "light"
     },
     "output_type": "display_data"
    },
    {
     "name": "stdout",
     "output_type": "stream",
     "text": [
      "label test 0 tensor([4, 1, 3, 2])\n",
      "tensor([[0.1277, 0.4383, 0.1471, 0.1576, 0.1293],\n",
      "        [0.1845, 0.1922, 0.1738, 0.2552, 0.1942],\n",
      "        [0.1240, 0.1484, 0.4503, 0.1497, 0.1276]], grad_fn=<SumBackward1>)\n",
      "tensor([[0., 1., 0., 0., 0.],\n",
      "        [0., 0., 0., 1., 0.],\n",
      "        [0., 0., 1., 0., 0.]])\n"
     ]
    },
    {
     "data": {
      "image/png": "[encoded data removed]",
      "text/plain": [
       "<Figure size 432x288 with 1 Axes>"
      ]
     },
     "metadata": {
      "needs_background": "light"
     },
     "output_type": "display_data"
    },
    {
     "name": "stdout",
     "output_type": "stream",
     "text": [
      "label test 1 tensor([0, 0, 0, 0, 2])\n",
      "tensor([[0.3650, 0.1771, 0.1598, 0.1621, 0.1361],\n",
      "        [0.3638, 0.1773, 0.1596, 0.1631, 0.1362],\n",
      "        [0.3837, 0.1663, 0.1449, 0.1616, 0.1435],\n",
      "        [0.1206, 0.1556, 0.4572, 0.1431, 0.1236]], grad_fn=<SumBackward1>)\n",
      "tensor([[1., 0., 0., 0., 0.],\n",
      "        [1., 0., 0., 0., 0.],\n",
      "        [1., 0., 0., 0., 0.],\n",
      "        [0., 0., 1., 0., 0.]])\n"
     ]
    },
    {
     "data": {
      "image/png": "[encoded data removed]",
      "text/plain": [
       "<Figure size 432x288 with 1 Axes>"
      ]
     },
     "metadata": {
      "needs_background": "light"
     },
     "output_type": "display_data"
    }
   ],
   "source": [
    "model = Model()\n",
    "trn(train_iter, model)\n",
    "# UNK PUNCT is observed once; p(w=unk| UNK) = 1\n",
    "# probs/logits: p('was'| UNK/AUX) = 0 -> max p(z| Sam I was.) = PRON AUX PUNCT\n",
    "# probs: max p(z| unk unk unk unk.) = UNK UNK UNK PUNCT\n",
    "# logits: max p(z| unk unk unk unk.) = UNK PUNCT UNK PUNCT"
   ]
  },
  {
   "cell_type": "code",
   "execution_count": 14,
   "metadata": {
    "scrolled": false
   },
   "outputs": [
    {
     "name": "stdout",
     "output_type": "stream",
     "text": [
      "data copies\n",
      "transition \n",
      " tensor([[0.0000, 0.0455, 0.0000, 0.0476, 0.0000],\n",
      "        [0.3333, 0.0000, 0.0000, 0.0952, 0.8421],\n",
      "        [0.6667, 0.0455, 0.0000, 0.8095, 0.1053],\n",
      "        [0.0000, 0.8636, 0.0000, 0.0000, 0.0526],\n",
      "        [0.0000, 0.0455, 0.0000, 0.0476, 0.0000]])\n",
      "emission \n",
      " tensor([[0.6667, 0.0000, 0.0000, 0.0000, 0.0000],\n",
      "        [0.0000, 1.0000, 0.0000, 0.0000, 0.0000],\n",
      "        [0.0000, 0.0000, 1.0000, 0.0000, 0.0000],\n",
      "        [0.0000, 0.0000, 0.0000, 0.9524, 0.0000],\n",
      "        [0.0000, 0.0000, 0.0000, 0.0000, 1.0000],\n",
      "        [0.0000, 0.0000, 0.0000, 0.0476, 0.0000],\n",
      "        [0.3333, 0.0000, 0.0000, 0.0000, 0.0000]])\n",
      "label train tensor([4, 1, 3, 2])\n"
     ]
    },
    {
     "data": {
      "image/png": "[encoded data removed]",
      "text/plain": [
       "<Figure size 432x288 with 1 Axes>"
      ]
     },
     "metadata": {
      "needs_background": "light"
     },
     "output_type": "display_data"
    },
    {
     "name": "stdout",
     "output_type": "stream",
     "text": [
      "label train tensor([4, 1, 3, 2])\n"
     ]
    },
    {
     "data": {
      "image/png": "[encoded data removed]",
      "text/plain": [
       "<Figure size 432x288 with 1 Axes>"
      ]
     },
     "metadata": {
      "needs_background": "light"
     },
     "output_type": "display_data"
    },
    {
     "name": "stdout",
     "output_type": "stream",
     "text": [
      "label train tensor([4, 1, 3, 2])\n"
     ]
    },
    {
     "data": {
      "image/png": "[encoded data removed]",
      "text/plain": [
       "<Figure size 432x288 with 1 Axes>"
      ]
     },
     "metadata": {
      "needs_background": "light"
     },
     "output_type": "display_data"
    },
    {
     "name": "stdout",
     "output_type": "stream",
     "text": [
      "label train tensor([4, 1, 3, 2])\n"
     ]
    },
    {
     "data": {
      "image/png": "[encoded data removed]",
      "text/plain": [
       "<Figure size 432x288 with 1 Axes>"
      ]
     },
     "metadata": {
      "needs_background": "light"
     },
     "output_type": "display_data"
    },
    {
     "name": "stdout",
     "output_type": "stream",
     "text": [
      "label train tensor([4, 1, 3, 2])\n"
     ]
    },
    {
     "data": {
      "image/png": "[encoded data removed]",
      "text/plain": [
       "<Figure size 432x288 with 1 Axes>"
      ]
     },
     "metadata": {
      "needs_background": "light"
     },
     "output_type": "display_data"
    },
    {
     "name": "stdout",
     "output_type": "stream",
     "text": [
      "label train tensor([4, 1, 3, 2])\n"
     ]
    },
    {
     "data": {
      "image/png": "[encoded data removed]",
      "text/plain": [
       "<Figure size 432x288 with 1 Axes>"
      ]
     },
     "metadata": {
      "needs_background": "light"
     },
     "output_type": "display_data"
    },
    {
     "name": "stdout",
     "output_type": "stream",
     "text": [
      "label train tensor([4, 1, 3, 2])\n"
     ]
    },
    {
     "data": {
      "image/png": "[encoded data removed]",
      "text/plain": [
       "<Figure size 432x288 with 1 Axes>"
      ]
     },
     "metadata": {
      "needs_background": "light"
     },
     "output_type": "display_data"
    },
    {
     "name": "stdout",
     "output_type": "stream",
     "text": [
      "label train tensor([4, 1, 3, 2])\n"
     ]
    },
    {
     "data": {
      "image/png": "[encoded data removed]",
      "text/plain": [
       "<Figure size 432x288 with 1 Axes>"
      ]
     },
     "metadata": {
      "needs_background": "light"
     },
     "output_type": "display_data"
    },
    {
     "name": "stdout",
     "output_type": "stream",
     "text": [
      "label train tensor([1, 3, 4, 2])\n"
     ]
    },
    {
     "data": {
      "image/png": "[encoded data removed]",
      "text/plain": [
       "<Figure size 432x288 with 1 Axes>"
      ]
     },
     "metadata": {
      "needs_background": "light"
     },
     "output_type": "display_data"
    },
    {
     "name": "stdout",
     "output_type": "stream",
     "text": [
      "label train tensor([4, 3, 1, 2])\n"
     ]
    },
    {
     "data": {
      "image/png": "[encoded data removed]",
      "text/plain": [
       "<Figure size 432x288 with 1 Axes>"
      ]
     },
     "metadata": {
      "needs_background": "light"
     },
     "output_type": "display_data"
    },
    {
     "name": "stdout",
     "output_type": "stream",
     "text": [
      "label train tensor([1, 3, 0, 2])\n"
     ]
    },
    {
     "data": {
      "image/png": "[encoded data removed]",
      "text/plain": [
       "<Figure size 432x288 with 1 Axes>"
      ]
     },
     "metadata": {
      "needs_background": "light"
     },
     "output_type": "display_data"
    },
    {
     "name": "stdout",
     "output_type": "stream",
     "text": [
      "label test 0 tensor([4, 1, 3, 2])\n",
      "tensor([[0.1095, 0.5190, 0.1222, 0.1348, 0.1145],\n",
      "        [0.2373, 0.1711, 0.1505, 0.2938, 0.1473],\n",
      "        [0.1159, 0.1493, 0.4762, 0.1427, 0.1159]], grad_fn=<SumBackward1>)\n",
      "tensor([[0., 1., 0., 0., 0.],\n",
      "        [0., 0., 0., 1., 0.],\n",
      "        [0., 0., 1., 0., 0.]])\n"
     ]
    },
    {
     "data": {
      "image/png": "[encoded data removed]",
      "text/plain": [
       "<Figure size 432x288 with 1 Axes>"
      ]
     },
     "metadata": {
      "needs_background": "light"
     },
     "output_type": "display_data"
    },
    {
     "name": "stdout",
     "output_type": "stream",
     "text": [
      "label test 1 tensor([0, 0, 0, 0, 2])\n",
      "tensor([[0.2829, 0.2034, 0.1797, 0.1815, 0.1526],\n",
      "        [0.2812, 0.2049, 0.1807, 0.1827, 0.1505],\n",
      "        [0.3104, 0.1770, 0.1643, 0.2103, 0.1381],\n",
      "        [0.1166, 0.1511, 0.4709, 0.1447, 0.1166]], grad_fn=<SumBackward1>)\n",
      "tensor([[1., 0., 0., 0., 0.],\n",
      "        [0., 1., 0., 0., 0.],\n",
      "        [0., 0., 0., 1., 0.],\n",
      "        [0., 0., 1., 0., 0.]])\n"
     ]
    },
    {
     "data": {
      "image/png": "[encoded data removed]",
      "text/plain": [
       "<Figure size 432x288 with 1 Axes>"
      ]
     },
     "metadata": {
      "needs_background": "light"
     },
     "output_type": "display_data"
    }
   ],
   "source": [
    "print('data copies') # ie repeat PRON AUX PUNCT\n",
    "model1 = Model()\n",
    "trn(train_iter_DATA, model1)\n",
    "# UNK PUNCT is observed twice; p(w=unk| UNK) = 1\n",
    "# probs: p('was'| UNK) = 0.3, p('was'| AUX) = 0 -> max p(z| Sam I was.) = PRON AUX PUNCT\n",
    "# logits: p('was'| UNK) = 0.3, p('was'| AUX) = 0 -> max p(z| Sam I was.) = PRON UNK PUNCT\n",
    "# probs: p(z| unk unk unk unk.) =  UNK PRON AUX PUNCT \n",
    "# logits: max p(z| unk unk unk unk.) = UNK PUNCT UNK PUNCT"
   ]
  },
  {
   "cell_type": "code",
   "execution_count": null,
   "metadata": {},
   "outputs": [],
   "source": [
    "# y axis {'<unk>': 0, 'PRON': 1, 'PUNCT': 2, 'AUX': 3, 'PROPN': 4}"
   ]
  }
 ],
 "metadata": {
  "kernelspec": {
   "display_name": "Python 3",
   "language": "python",
   "name": "python3"
  },
  "language_info": {
   "codemirror_mode": {
    "name": "ipython",
    "version": 3
   },
   "file_extension": ".py",
   "mimetype": "text/x-python",
   "name": "python",
   "nbconvert_exporter": "python",
   "pygments_lexer": "ipython3",
   "version": "3.7.6"
  }
 },
 "nbformat": 4,
 "nbformat_minor": 4
}
