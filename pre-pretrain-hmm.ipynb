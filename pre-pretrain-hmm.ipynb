{
 "cells": [
  {
   "cell_type": "code",
   "execution_count": 1,
   "metadata": {},
   "outputs": [],
   "source": [
    "import torchtext.data as data\n",
    "from torchtext.data import BucketIterator\n",
    "import torch\n",
    "from torch.distributions import Categorical\n",
    "#from torch import nn\n",
    "from torch_struct import HMM\n",
    "#import matplotlib\n",
    "import matplotlib.pyplot as plt"
   ]
  },
  {
   "cell_type": "code",
   "execution_count": 2,
   "metadata": {},
   "outputs": [],
   "source": [
    "class ConllXDataset(data.Dataset):\n",
    "    def __init__(self, path, fields, encoding='utf-8', separator='\\t', **kwargs):\n",
    "        examples = []\n",
    "        columns = [[], []]\n",
    "        column_map = {1: 0, 3: 1}\n",
    "        with open(path, encoding=encoding) as input_file:\n",
    "            for line in input_file:\n",
    "                line = line.strip()\n",
    "                if line == '':\n",
    "                    examples.append(data.Example.fromlist(columns, fields))\n",
    "                    columns = [[], []]\n",
    "                else:\n",
    "                    for i, column in enumerate(line.split(separator)):\n",
    "                        if i in column_map:\n",
    "                            columns[column_map[i]].append(column)\n",
    "            examples.append(data.Example.fromlist(columns, fields))\n",
    "        super(ConllXDataset, self).__init__(examples, fields, **kwargs)\n",
    "\n",
    "#to do: add test\n",
    "WORD = data.Field()\n",
    "POS = data.Field(include_lengths=True) # init_token='<bos>'\n",
    "fields = (('word', WORD), ('pos', POS), (None, None))\n",
    "\n",
    "train = ConllXDataset('unk.conllu', fields)"
   ]
  },
  {
   "cell_type": "code",
   "execution_count": 3,
   "metadata": {},
   "outputs": [
    {
     "name": "stdout",
     "output_type": "stream",
     "text": [
      "C 6 V 7\n"
     ]
    }
   ],
   "source": [
    "WORD.build_vocab(train)\n",
    "POS.build_vocab(train)\n",
    "# print(WORD.vocab.stoi)\n",
    "# print(POS.vocab.stoi)\n",
    "\n",
    "train_iter = BucketIterator(train, batch_size=2, device='cpu', shuffle=False)\n",
    "\n",
    "C = len(POS.vocab)\n",
    "V = len(WORD.vocab)\n",
    "print('C', C, 'V', V)"
   ]
  },
  {
   "cell_type": "code",
   "execution_count": 4,
   "metadata": {},
   "outputs": [],
   "source": [
    "# class Model(nn.Module):\n",
    "class Model():\n",
    "    def __init__(self):\n",
    "        super().__init__()\n",
    "        self.trnsn_prms = {}\n",
    "        self.emssn_prms = {}\n",
    "\n",
    "    def update_a(self, tag_sq, length):\n",
    "        for i, x in enumerate(tag_sq[:length]): \n",
    "            # print(POS.vocab.itos[x.item()])\n",
    "            if i!=0: \n",
    "                if (tag_sq[i-1].item(), x.item()) not in self.trnsn_prms:\n",
    "                    self.trnsn_prms[(tag_sq[i-1].item(), x.item())] = 1\n",
    "                elif (tag_sq[i-1].item(), x.item()) in self.trnsn_prms:\n",
    "                    self.trnsn_prms[(tag_sq[i-1].item(), x.item())] += 1\n",
    "\n",
    "    def update_b(self, tag_sq, sent, length):\n",
    "        for i, t in enumerate(tag_sq[:length]): \n",
    "            x = (t.item(), sent[i].item())\n",
    "            if x not in self.emssn_prms:\n",
    "                self.emssn_prms[x] = 1\n",
    "            elif x in self.emssn_prms:\n",
    "                self.emssn_prms[x] += 1"
   ]
  },
  {
   "cell_type": "code",
   "execution_count": 5,
   "metadata": {},
   "outputs": [],
   "source": [
    "def show_chain(chain):\n",
    "    plt.imshow(chain.detach().sum(-1).transpose(0, 1))"
   ]
  },
  {
   "cell_type": "code",
   "execution_count": 6,
   "metadata": {
    "scrolled": false
   },
   "outputs": [
    {
     "name": "stdout",
     "output_type": "stream",
     "text": [
      "tensor([5, 3, 2, 4])\n"
     ]
    },
    {
     "data": {
      "image/png": "[encoded data removed]",
      "text/plain": [
       "<Figure size 432x288 with 1 Axes>"
      ]
     },
     "metadata": {
      "needs_background": "light"
     },
     "output_type": "display_data"
    },
    {
     "name": "stdout",
     "output_type": "stream",
     "text": [
      "tensor([3, 2, 4, 1])\n"
     ]
    },
    {
     "data": {
      "image/png": "[encoded data removed]",
      "text/plain": [
       "<Figure size 432x288 with 1 Axes>"
      ]
     },
     "metadata": {
      "needs_background": "light"
     },
     "output_type": "display_data"
    },
    {
     "name": "stdout",
     "output_type": "stream",
     "text": [
      "tensor([2, 3, 5, 4])\n"
     ]
    },
    {
     "data": {
      "image/png": "[encoded data removed]",
      "text/plain": [
       "<Figure size 432x288 with 1 Axes>"
      ]
     },
     "metadata": {
      "needs_background": "light"
     },
     "output_type": "display_data"
    },
    {
     "name": "stdout",
     "output_type": "stream",
     "text": [
      "tensor([0, 3, 2, 4])\n"
     ]
    },
    {
     "data": {
      "image/png": "[encoded data removed]",
      "text/plain": [
       "<Figure size 432x288 with 1 Axes>"
      ]
     },
     "metadata": {
      "needs_background": "light"
     },
     "output_type": "display_data"
    }
   ],
   "source": [
    "model = Model()\n",
    "def trn(train_iter, model):\n",
    "    for ex in train_iter:\n",
    "        words = ex.word\n",
    "        label, lengths = ex.pos\n",
    "        # for x in range(words.shape[1]):\n",
    "            # print(' '.join([WORD.vocab.itos[i] for i in words[:, x]]))\n",
    "            # print(' '.join([POS.vocab.itos[i] for i in label[:, x]]))\n",
    "\n",
    "        for b in range(label.shape[1]):\n",
    "            model.update_a(label[:, b], lengths[b])\n",
    "            model.update_b(label[:, b], words[:, b], lengths[b])\n",
    "    # print(model.trnsn_prms)\n",
    "    # print([(POS.vocab.itos[x[0]], POS.vocab.itos[x[1]], model.trnsn_prms[x]) for x in model.trnsn_prms])\n",
    "    # print([(POS.vocab.itos[x[0]], WORD.vocab.itos[x[1]], model.emssn_prms[x]) for x in model.emssn_prms])\n",
    "\n",
    "    transition = torch.zeros((C, C)) \n",
    "    for x in model.trnsn_prms:\n",
    "        transition[x[0], x[1]] = model.trnsn_prms[x] # populate with counts\n",
    "    #print(transition)\n",
    "    for row in range(transition.shape[0]):\n",
    "        if row!=POS.vocab.stoi['<pad>'] and row!=POS.vocab.stoi['PUNCT']: \n",
    "            transition[row, :] = Categorical(transition[row, :]).logits # normalize counts\n",
    "    #print(transition.shape, '\\n', transition)\n",
    "    transition = transition.transpose(0, 1) # p(z_n| z_n-1) \n",
    "    #print(transition)\n",
    "\n",
    "    init = torch.zeros(C)\n",
    "    for x in range(C):\n",
    "        init[x] = POS.vocab.freqs[POS.vocab.itos[x]]\n",
    "    #print(init)\n",
    "    init = Categorical(init).logits\n",
    "    #print(init)\n",
    "   \n",
    "    emission = torch.zeros((C, V)) \n",
    "    for x in model.emssn_prms:  \n",
    "        emission[x[0], x[1]] = model.emssn_prms[x]\n",
    "    #print(emission)\n",
    "    for row in range(emission.shape[0]):\n",
    "        if row!=WORD.vocab.stoi['<pad>']: # p(·|PUNCT) = 1\n",
    "            emission[row, :] = Categorical(emission[row, :]).logits\n",
    "    #print(emission)\n",
    "    emission = emission.transpose(0,1) # p(x_n| z_n)\n",
    "\n",
    "    for ex in train_iter:\n",
    "        label, lengths = ex.pos\n",
    "        observations = torch.transpose(torch.LongTensor(ex.word), 0, 1).contiguous()\n",
    "\n",
    "        #print(' '.join([WORD.vocab.itos[i] for i in words[:, 0]]))\n",
    "        print(label[:, 0])\n",
    "        # print(' '.join([POS.vocab.itos[i] for i in label[:, 0]]))\n",
    "\n",
    "        out = HMM(transition, emission, init, observations, lengths=lengths) # CxC, VxC, C, bxN\n",
    "        #print(out.argmax.shape) # b x (N-1) x C x C\n",
    "        #print(3, out.argmax[0])\n",
    "        #print(4, out.argmax[0].sum(-1))\n",
    "        show_chain(out.argmax[0])\n",
    "        plt.show()\n",
    "\n",
    "trn(train_iter, model)"
   ]
  },
  {
   "cell_type": "code",
   "execution_count": null,
   "metadata": {
    "scrolled": false
   },
   "outputs": [],
   "source": []
  },
  {
   "cell_type": "code",
   "execution_count": null,
   "metadata": {},
   "outputs": [],
   "source": []
  }
 ],
 "metadata": {
  "kernelspec": {
   "display_name": "Python 3",
   "language": "python",
   "name": "python3"
  },
  "language_info": {
   "codemirror_mode": {
    "name": "ipython",
    "version": 3
   },
   "file_extension": ".py",
   "mimetype": "text/x-python",
   "name": "python",
   "nbconvert_exporter": "python",
   "pygments_lexer": "ipython3",
   "version": "3.7.6"
  }
 },
 "nbformat": 4,
 "nbformat_minor": 4
}
