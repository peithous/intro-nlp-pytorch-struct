{
 "cells": [
  {
   "cell_type": "code",
   "execution_count": 2,
   "metadata": {},
   "outputs": [
    {
     "data": {
      "text/plain": [
       "(6, 7)"
      ]
     },
     "execution_count": 2,
     "metadata": {},
     "output_type": "execute_result"
    }
   ],
   "source": [
    "import torchtext.data as data\n",
    "from torchtext.data import BucketIterator\n",
    "\n",
    "import torch\n",
    "from torch import nn\n",
    "import torch.nn.functional as F\n",
    "import torch.optim as optim\n",
    "\n",
    "from torch_struct import LinearChainCRF\n",
    "#import matplotlib\n",
    "import matplotlib.pyplot as plt\n",
    "\n",
    "class ConllXDataset(data.Dataset):\n",
    "    def __init__(self, path, fields, encoding='utf-8', separator='\\t', **kwargs):\n",
    "        examples = []\n",
    "        columns = [[], []]\n",
    "        column_map = {1: 0, 3: 1}\n",
    "        with open(path, encoding=encoding) as input_file:\n",
    "            for line in input_file:\n",
    "                line = line.strip()\n",
    "                if line == '':\n",
    "                    examples.append(data.Example.fromlist(columns, fields))\n",
    "                    columns = [[], []]\n",
    "                else:\n",
    "                    for i, column in enumerate(line.split(separator)):\n",
    "                        if i in column_map:\n",
    "                            columns[column_map[i]].append(column)\n",
    "            examples.append(data.Example.fromlist(columns, fields))\n",
    "        super(ConllXDataset, self).__init__(examples, fields, **kwargs)\n",
    "\n",
    "#to do: add bos\n",
    "WORD = data.Field() # init_token='<bos>', eos_token='<eos>'\n",
    "POS = data.Field(is_target=True)\n",
    "fields = (('word', WORD), ('pos', POS))\n",
    "\n",
    "train = ConllXDataset('/Users/sofia/pytorch-struct/examples/data/sam.conllu', fields)\n",
    "\n",
    "WORD.build_vocab(train)\n",
    "POS.build_vocab(train)\n",
    "#print(vars(POS.vocab))\n",
    "\n",
    "train_iter = BucketIterator(train, batch_size=2, device='cpu', shuffle=False)\n",
    "\n",
    "C = len(POS.vocab.itos)\n",
    "V = len(WORD.vocab.itos)\n",
    "C, V"
   ]
  },
  {
   "cell_type": "code",
   "execution_count": 3,
   "metadata": {},
   "outputs": [
    {
     "name": "stdout",
     "output_type": "stream",
     "text": [
      "{'freqs': Counter({'PRON': 5, 'AUX': 5, 'PUNCT': 5, 'PROPN': 4}), 'itos': ['<unk>', '<pad>', 'AUX', 'PRON', 'PUNCT', 'PROPN'], 'unk_index': 0, 'stoi': defaultdict(<bound method Vocab._default_unk_index of <torchtext.vocab.Vocab object at 0x11fde6f50>>, {'<unk>': 0, '<pad>': 1, 'AUX': 2, 'PRON': 3, 'PUNCT': 4, 'PROPN': 5}), 'vectors': None}\n"
     ]
    }
   ],
   "source": [
    "print(vars(POS.vocab))"
   ]
  },
  {
   "cell_type": "code",
   "execution_count": 4,
   "metadata": {},
   "outputs": [],
   "source": [
    "class Model(nn.Module):\n",
    "    def __init__(self, voc_size, num_pos_tags):\n",
    "        super().__init__()\n",
    "        self.linear = nn.Linear(voc_size, num_pos_tags)\n",
    "\n",
    "    def forward(self, count_mat):\n",
    "        #print(self.linear(count_mat).shape)\n",
    "        return F.log_softmax(self.linear(count_mat), dim=2)\n",
    "\n",
    "model = Model(V, C)\n",
    "#loss_function = nn.MSELoss()\n",
    "opt = optim.SGD(model.parameters(), lr=.7)"
   ]
  },
  {
   "cell_type": "code",
   "execution_count": 5,
   "metadata": {},
   "outputs": [],
   "source": [
    "def show_chain(chain):\n",
    "\n",
    "    plt.imshow(chain.detach().sum(-1).transpose(0, 1))"
   ]
  },
  {
   "cell_type": "code",
   "execution_count": 6,
   "metadata": {},
   "outputs": [
    {
     "name": "stdout",
     "output_type": "stream",
     "text": [
      "0\n",
      "tensor(-14.2392, grad_fn=<SumBackward0>)\n",
      "tensor(-14.1560, grad_fn=<SumBackward0>)\n",
      "tensor(-6.9815, grad_fn=<SumBackward0>)\n",
      "1\n",
      "tensor(-13.9063, grad_fn=<SumBackward0>)\n",
      "tensor(-13.9370, grad_fn=<SumBackward0>)\n",
      "tensor(-6.8834, grad_fn=<SumBackward0>)\n"
     ]
    }
   ],
   "source": [
    "model.train()\n",
    "#losses = []\n",
    "for epoch in range(2):\n",
    "    print(epoch)\n",
    "    for batch in train_iter:\n",
    "            #model.zero_grad()\n",
    "        opt.zero_grad() \n",
    "\n",
    "        dims_fake = torch.full((batch.pos.shape[1], C, V), .3)\n",
    "        #print(dims_fake)\n",
    "        #print(dims_fake.requires_grad)\n",
    "        #model_in = make_count_mat(batch.word, batch.pos)\n",
    "\n",
    "        probs = model(dims_fake)\n",
    "#         print('probs', probs)\n",
    "#         #print('weights', model.linear.weight)\n",
    "#         print('parms', list(model.parameters()))\n",
    "        \n",
    "        chain = probs.unsqueeze(1).expand(-1, batch.word.shape[0]-1, -1, -1)  # batch, N, C, C \n",
    "        #print(chain)\n",
    "        \n",
    "        dist = LinearChainCRF(chain) # f(y) = \\prod_{n=1}^N \\phi(n, y_n, y_n{-1}) \n",
    "        #print('d', dist.marginals.shape, dist.marginals)\n",
    "        # print(dist.argmax.shape) \n",
    "#         show_chain(dist.argmax[0])\n",
    "#         plt.show()\n",
    "\n",
    "\n",
    "        label = batch.pos\n",
    "        labels = LinearChainCRF.struct.to_parts(label.transpose(0, 1) \\\n",
    "                            .type(torch.LongTensor), C).type(torch.FloatTensor) # b x N, C -> b x (N-1) x C x C \n",
    "#         out = LinearChainCRF(labels)\n",
    "#         show_chain(out.argmax[0])\n",
    "#         plt.show()    \n",
    "        #print('l', labels.shape, labels)\n",
    "\n",
    "        #print(dist.log_prob(labels))\n",
    "        loss = dist.log_prob(labels).sum() # (*sample_shape x batch_shape x event_shape*) -> (*sample_shape x batch_shape*)  \n",
    "        (-loss).backward()\n",
    "        print(loss)\n",
    "        \n",
    "        #print(model.linear.weight.grad)\n",
    "        \n",
    "        opt.step()\n",
    "            \n",
    "        #print(dist.log_prob(dist.marginals))\n",
    "        #print(loss.detach())\n",
    "        # losses.append(loss.detach())"
   ]
  },
  {
   "cell_type": "code",
   "execution_count": 17,
   "metadata": {
    "scrolled": false
   },
   "outputs": [
    {
     "name": "stdout",
     "output_type": "stream",
     "text": [
      "epoch 10 batch 0\n"
     ]
    },
    {
     "data": {
      "image/png": "[encoded data removed]",
      "text/plain": [
       "<Figure size 432x288 with 1 Axes>"
      ]
     },
     "metadata": {
      "needs_background": "light"
     },
     "output_type": "display_data"
    },
    {
     "name": "stdout",
     "output_type": "stream",
     "text": [
      "tensor(13.4721, grad_fn=<NegBackward>)\n"
     ]
    },
    {
     "data": {
      "image/png": "[encoded data removed]",
      "text/plain": [
       "<Figure size 432x288 with 1 Axes>"
      ]
     },
     "metadata": {
      "needs_background": "light"
     },
     "output_type": "display_data"
    },
    {
     "name": "stdout",
     "output_type": "stream",
     "text": [
      "epoch 10 batch 1\n"
     ]
    },
    {
     "data": {
      "image/png": "[encoded data removed]",
      "text/plain": [
       "<Figure size 432x288 with 1 Axes>"
      ]
     },
     "metadata": {
      "needs_background": "light"
     },
     "output_type": "display_data"
    },
    {
     "name": "stdout",
     "output_type": "stream",
     "text": [
      "tensor(13.5526, grad_fn=<NegBackward>)\n"
     ]
    },
    {
     "data": {
      "image/png": "[encoded data removed]",
      "text/plain": [
       "<Figure size 432x288 with 1 Axes>"
      ]
     },
     "metadata": {
      "needs_background": "light"
     },
     "output_type": "display_data"
    },
    {
     "name": "stdout",
     "output_type": "stream",
     "text": [
      "epoch 10 batch 2\n"
     ]
    },
    {
     "data": {
      "image/png": "[encoded data removed]",
      "text/plain": [
       "<Figure size 432x288 with 1 Axes>"
      ]
     },
     "metadata": {
      "needs_background": "light"
     },
     "output_type": "display_data"
    },
    {
     "name": "stdout",
     "output_type": "stream",
     "text": [
      "tensor(6.7364, grad_fn=<NegBackward>)\n"
     ]
    },
    {
     "data": {
      "image/png": "[encoded data removed]",
      "text/plain": [
       "<Figure size 432x288 with 1 Axes>"
      ]
     },
     "metadata": {
      "needs_background": "light"
     },
     "output_type": "display_data"
    },
    {
     "name": "stdout",
     "output_type": "stream",
     "text": [
      "epoch 110 batch 0\n"
     ]
    },
    {
     "data": {
      "image/png": "[encoded data removed]",
      "text/plain": [
       "<Figure size 432x288 with 1 Axes>"
      ]
     },
     "metadata": {
      "needs_background": "light"
     },
     "output_type": "display_data"
    },
    {
     "name": "stdout",
     "output_type": "stream",
     "text": [
      "tensor(13.4719, grad_fn=<NegBackward>)\n"
     ]
    },
    {
     "data": {
      "image/png": "[encoded data removed]",
      "text/plain": [
       "<Figure size 432x288 with 1 Axes>"
      ]
     },
     "metadata": {
      "needs_background": "light"
     },
     "output_type": "display_data"
    },
    {
     "name": "stdout",
     "output_type": "stream",
     "text": [
      "epoch 110 batch 1\n"
     ]
    },
    {
     "data": {
      "image/png": "[encoded data removed]",
      "text/plain": [
       "<Figure size 432x288 with 1 Axes>"
      ]
     },
     "metadata": {
      "needs_background": "light"
     },
     "output_type": "display_data"
    },
    {
     "name": "stdout",
     "output_type": "stream",
     "text": [
      "tensor(13.5527, grad_fn=<NegBackward>)\n"
     ]
    },
    {
     "data": {
      "image/png": "[encoded data removed]",
      "text/plain": [
       "<Figure size 432x288 with 1 Axes>"
      ]
     },
     "metadata": {
      "needs_background": "light"
     },
     "output_type": "display_data"
    },
    {
     "name": "stdout",
     "output_type": "stream",
     "text": [
      "epoch 110 batch 2\n"
     ]
    },
    {
     "data": {
      "image/png": "[encoded data removed]",
      "text/plain": [
       "<Figure size 432x288 with 1 Axes>"
      ]
     },
     "metadata": {
      "needs_background": "light"
     },
     "output_type": "display_data"
    },
    {
     "name": "stdout",
     "output_type": "stream",
     "text": [
      "tensor(6.7363, grad_fn=<NegBackward>)\n"
     ]
    },
    {
     "data": {
      "image/png": "[encoded data removed]",
      "text/plain": [
       "<Figure size 432x288 with 1 Axes>"
      ]
     },
     "metadata": {
      "needs_background": "light"
     },
     "output_type": "display_data"
    },
    {
     "name": "stdout",
     "output_type": "stream",
     "text": [
      "epoch 210 batch 0\n"
     ]
    },
    {
     "data": {
      "image/png": "[encoded data removed]",
      "text/plain": [
       "<Figure size 432x288 with 1 Axes>"
      ]
     },
     "metadata": {
      "needs_background": "light"
     },
     "output_type": "display_data"
    },
    {
     "name": "stdout",
     "output_type": "stream",
     "text": [
      "tensor(13.4718, grad_fn=<NegBackward>)\n"
     ]
    },
    {
     "data": {
      "image/png": "[encoded data removed]",
      "text/plain": [
       "<Figure size 432x288 with 1 Axes>"
      ]
     },
     "metadata": {
      "needs_background": "light"
     },
     "output_type": "display_data"
    },
    {
     "name": "stdout",
     "output_type": "stream",
     "text": [
      "epoch 210 batch 1\n"
     ]
    },
    {
     "data": {
      "image/png": "[encoded data removed]",
      "text/plain": [
       "<Figure size 432x288 with 1 Axes>"
      ]
     },
     "metadata": {
      "needs_background": "light"
     },
     "output_type": "display_data"
    },
    {
     "name": "stdout",
     "output_type": "stream",
     "text": [
      "tensor(13.5527, grad_fn=<NegBackward>)\n"
     ]
    },
    {
     "data": {
      "image/png": "[encoded data removed]",
      "text/plain": [
       "<Figure size 432x288 with 1 Axes>"
      ]
     },
     "metadata": {
      "needs_background": "light"
     },
     "output_type": "display_data"
    },
    {
     "name": "stdout",
     "output_type": "stream",
     "text": [
      "epoch 210 batch 2\n"
     ]
    },
    {
     "data": {
      "image/png": "[encoded data removed]",
      "text/plain": [
       "<Figure size 432x288 with 1 Axes>"
      ]
     },
     "metadata": {
      "needs_background": "light"
     },
     "output_type": "display_data"
    },
    {
     "name": "stdout",
     "output_type": "stream",
     "text": [
      "tensor(6.7363, grad_fn=<NegBackward>)\n"
     ]
    },
    {
     "data": {
      "image/png": "[encoded data removed]",
      "text/plain": [
       "<Figure size 432x288 with 1 Axes>"
      ]
     },
     "metadata": {
      "needs_background": "light"
     },
     "output_type": "display_data"
    }
   ],
   "source": [
    "model.train()\n",
    "#losses = []\n",
    "for epoch in range(300):\n",
    "    #print(epoch)\n",
    "    for i, batch in enumerate(train_iter):\n",
    "        opt.zero_grad() \n",
    "\n",
    "        dims_fake = torch.full((batch.pos.shape[1], C, V), .3)\n",
    "        #model_in = make_count_mat(batch.word, batch.pos)\n",
    "\n",
    "        probs = model(dims_fake)\n",
    "#         print('probs', probs)\n",
    "#         print('parms', list(model.parameters()))\n",
    "        \n",
    "        chain = probs.unsqueeze(1).expand(-1, batch.word.shape[0]-1, -1, -1)  # batch, N, C, C \n",
    "        #print(chain)\n",
    "        \n",
    "        dist = LinearChainCRF(chain) # f(y) = \\prod_{n=1}^N \\phi(n, y_n, y_n{-1}) \n",
    "        #print('d', dist.marginals.shape, dist.marginals)\n",
    "        # print(dist.argmax.shape) \n",
    "#         show_chain(dist.argmax[0])\n",
    "#         plt.show()\n",
    "\n",
    "        label = batch.pos\n",
    "        labels = LinearChainCRF.struct.to_parts(label.transpose(0, 1) \\\n",
    "                            .type(torch.LongTensor), C).type(torch.FloatTensor) # b x N, C -> b x (N-1) x C x C \n",
    "        out = LinearChainCRF(labels)\n",
    "#         show_chain(out.argmax[0])\n",
    "#         plt.show()    \n",
    "        #print('l', labels.shape, labels)\n",
    "\n",
    "        #print(dist.log_prob(labels))\n",
    "        loss = dist.log_prob(labels).sum() # (*sample_shape x batch_shape x event_shape*) -> (*sample_shape x batch_shape*)  \n",
    "        (-loss).backward()\n",
    "        #print(loss)       \n",
    "        #print(model.linear.weight.grad)\n",
    "        \n",
    "        opt.step()\n",
    "        \n",
    "        if epoch % 100 == 10:  \n",
    "            print('epoch', epoch, 'batch', i)\n",
    "            show_chain(dist.argmax[0])  \n",
    "            plt.show()\n",
    "            show_chain(out.argmax[0])\n",
    "            print(-loss)\n",
    "            plt.show()\n",
    "        #print(dist.log_prob(dist.marginals))\n",
    "        #print(loss.detach())\n",
    "        # losses.append(loss.detach())\n",
    "\n"
   ]
  },
  {
   "cell_type": "code",
   "execution_count": null,
   "metadata": {},
   "outputs": [],
   "source": []
  }
 ],
 "metadata": {
  "kernelspec": {
   "display_name": "Python 3",
   "language": "python",
   "name": "python3"
  },
  "language_info": {
   "codemirror_mode": {
    "name": "ipython",
    "version": 3
   },
   "file_extension": ".py",
   "mimetype": "text/x-python",
   "name": "python",
   "nbconvert_exporter": "python",
   "pygments_lexer": "ipython3",
   "version": "3.7.6"
  }
 },
 "nbformat": 4,
 "nbformat_minor": 4
}
